{
 "cells": [
  {
   "cell_type": "code",
   "execution_count": 1,
   "metadata": {
    "collapsed": true
   },
   "outputs": [],
   "source": [
    "#Any code, applications, scripts, templates, proofs of concept, documentation and other items provided by AWS under this SOW are “AWS Content,” as defined in the Agreement, and are provided for illustration purposes only. All such AWS Content is provided solely at the option of AWS, and is subject to the terms of the Addendum and the Agreement. Customer is solely responsible for using, deploying, testing, and supporting any code and applications provided by AWS under this SOW."
   ]
  },
  {
   "cell_type": "code",
   "execution_count": 157,
   "metadata": {
    "collapsed": true
   },
   "outputs": [],
   "source": [
    "import numpy as np\n",
    "import cv2\n",
    "from matplotlib import pyplot as plt\n",
    "import os\n",
    "import random\n",
    "import sys\n",
    "import os\n",
    "import json\n",
    "from pprint import pprint\n",
    "import pandas as pd\n",
    "\n",
    "#images path\n",
    "os.chdir('/home/ec2-user/table_detection/json2df/VOC2007/JPEGImages')\n",
    "# path to dataframe\n",
    "df_path = '/home/ec2-user/table_detection/json2df/meta_dataframe.csv'\n",
    "new_df_path = '/home/ec2-user/table_detection/json2df/meta_dataframe_updated.csv'\n",
    "\n",
    "# loop over all the files and slice them \n",
    "def slice_image_loop(outdir):\n",
    "    df = pd.read_pickle(df_path)\n",
    "    for path, subdirs, files in os.walk(outdir):\n",
    "        if not os.path.exists(str(path)+'_sliced'):\n",
    "            os.makedirs(str(path)+'_sliced')\n",
    "        for name in files:\n",
    "            if name.endswith('.jpeg'): # change outdir\n",
    "                for cut_side in [\"left\",\"right\",\"bottom\",\"top\"]: # loop over sidi\n",
    "                    for i in np.arange(0, 1.95, 0.15): #for i in np.arange(0, 5, 0.015) # loop over cutting %\n",
    "                        cut_percent = i \n",
    "                        image_path = os.path.join(str(path)+'/'+name)\n",
    "                        image = cv2.imread(image_path,0)\n",
    "                        corped_img = slice_image(image, cut_percent, part=cut_side)\n",
    "                        new_file_name = str(path)+'_sliced/'+cut_side+'_'+str(i)+'_'+name\n",
    "                        # add a line to the data frame:\n",
    "                        temp_df_row = df.loc[df[0] == name]\n",
    "                        flag = 0\n",
    "                        column_number = 1\n",
    "                        temp_list = temp_df_row[column_number]\n",
    "                        temp_df_row.set_value(temp_df_row.index[0], 0, cut_side+'_'+str(i)+'_'+name)\n",
    "                        #print(\"temp_df_row[column_number]: \",temp_df_row[column_number])\n",
    "                        temp_list = temp_list.tolist()\n",
    "                        temp_list = temp_list[0]            \n",
    "                        while flag==0:\n",
    "                            if (cut_side=='left'):\n",
    "                                temp_list[0] = temp_list[0] - image.shape[1]*cut_percent/100\n",
    "                            elif (cut_side=='top'):\n",
    "                                temp_list[1] = temp_list[1] - image.shape[0]*cut_percent/100\n",
    "                            #print(\"temp_list to append:\", temp_list)\n",
    "                            #print(\"temp_df_row.index: \",temp_df_row.index[0])\n",
    "                            temp_df_row.set_value(temp_df_row.index[0], column_number, temp_list)\n",
    "                            df = df.append(temp_df_row)\n",
    "                            #print(\"temp_df_row\",temp_df_row,\"end\")\n",
    "                            #print(df.append(temp_df_row))\n",
    "                            column_number+=1\n",
    "                            if df.index[1] >= column_number:\n",
    "                                temp_list = temp_df_row[column_number]\n",
    "                                temp_list = temp_list.tolist()\n",
    "                                temp_list = temp_list[0]\n",
    "                            else:\n",
    "                                flag = 1\n",
    "                            if temp_list is None:\n",
    "                                flag = 1\n",
    "                                #print(\"game over for row number, colnum:\", cut_side+'_'+str(i)+'_'+name, column_number)\n",
    "                        cv2.imwrite(str(path)+'_sliced/'+cut_side+'_'+str(i)+'_'+name,corped_img)\n",
    "                        ##script to show the cropped image\n",
    "                        #plt.imshow(corped_img, cmap = 'gray', interpolation = 'bicubic')\n",
    "                        #plt.xticks([]), plt.yticks([])  # to hide tick values on X and Y axis\n",
    "                        #plt.show()\n",
    "    df.to_pickle(new_df_path)\n",
    "\n",
    "os.chdir('/home/ec2-user/table_detection/json2df/VOC2007/JPEGImages')\n",
    "cwd = '/home/ec2-user/table_detection/json2df/VOC2007/JPEGImages'\n",
    "slice_image_loop(cwd)"
   ]
  }
 ],
 "metadata": {
  "kernelspec": {
   "display_name": "Python 2",
   "language": "python",
   "name": "python2"
  },
  "language_info": {
   "codemirror_mode": {
    "name": "ipython",
    "version": 2
   },
   "file_extension": ".py",
   "mimetype": "text/x-python",
   "name": "python",
   "nbconvert_exporter": "python",
   "pygments_lexer": "ipython2",
   "version": "2.7.12"
  }
 },
 "nbformat": 4,
 "nbformat_minor": 2
}
